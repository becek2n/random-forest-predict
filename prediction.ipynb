{
  "cells": [
    {
      "cell_type": "code",
      "execution_count": 2,
      "metadata": {
        "id": "zwFnJsE6vjf8",
        "colab": {
          "base_uri": "https://localhost:8080/"
        },
        "outputId": "100909ec-0294-4583-fee1-cc2870c6c081"
      },
      "outputs": [
        {
          "output_type": "stream",
          "name": "stdout",
          "text": [
            "Collecting fuzzywuzzy\n",
            "  Downloading fuzzywuzzy-0.18.0-py2.py3-none-any.whl.metadata (4.9 kB)\n",
            "Downloading fuzzywuzzy-0.18.0-py2.py3-none-any.whl (18 kB)\n",
            "Installing collected packages: fuzzywuzzy\n",
            "Successfully installed fuzzywuzzy-0.18.0\n"
          ]
        }
      ],
      "source": [
        "pip install fuzzywuzzy"
      ]
    },
    {
      "cell_type": "code",
      "source": [
        "from fuzzywuzzy import fuzz\n",
        "from collections import Counter\n",
        "\n",
        "# Sample dataset of column name variations\n",
        "column_variations = [\n",
        "    \"ACC_NUMBER\", \"ACCNBR\", \"ACC_NBR\", \"ACNMBR\",\n",
        "    \"ACCOUNT_NUMBER\", \"ACCNT_NMBR\", \"ACCNT_NBR\"\n",
        "]\n",
        "\n",
        "# Function to predict the standard column name from a new variation\n",
        "def predict_column_name(new_column_name, column_variations):\n",
        "    # Calculate the similarity of the new column name to the existing ones\n",
        "    similarities = [(col, fuzz.ratio(new_column_name, col)) for col in column_variations]\n",
        "\n",
        "    # Sort the columns by similarity score (higher score means more similar)\n",
        "    similarities.sort(key=lambda x: x[1], reverse=True)\n",
        "\n",
        "    # Get the most similar column name (typically the first one after sorting)\n",
        "    predicted_name = similarities[0][0]\n",
        "\n",
        "    return predicted_name\n",
        "\n",
        "# Example: Predict for the new column name 'ACCNTNMBR'\n",
        "new_column_name = \"AC_BR\"\n",
        "predicted_name = predict_column_name(new_column_name, column_variations)\n",
        "\n",
        "print(f\"Predicted column name for '{new_column_name}': {predicted_name}\")\n"
      ],
      "metadata": {
        "colab": {
          "base_uri": "https://localhost:8080/"
        },
        "id": "oTM-T_ynzUif",
        "outputId": "82ae4fa0-65af-4b5b-9248-3b5e79d19111"
      },
      "execution_count": 4,
      "outputs": [
        {
          "output_type": "stream",
          "name": "stdout",
          "text": [
            "Predicted column name for 'AC_BR': ACC_NBR\n"
          ]
        }
      ]
    },
    {
      "cell_type": "code",
      "source": [
        "pip install scikit-learn fuzzywuzzy\n"
      ],
      "metadata": {
        "colab": {
          "base_uri": "https://localhost:8080/"
        },
        "id": "vNOFX8sL2Z6b",
        "outputId": "0b0fab13-cd0c-4b78-e182-513b32dd14d5"
      },
      "execution_count": 11,
      "outputs": [
        {
          "output_type": "stream",
          "name": "stdout",
          "text": [
            "Requirement already satisfied: scikit-learn in /usr/local/lib/python3.10/dist-packages (1.5.2)\n",
            "Requirement already satisfied: fuzzywuzzy in /usr/local/lib/python3.10/dist-packages (0.18.0)\n",
            "Requirement already satisfied: numpy>=1.19.5 in /usr/local/lib/python3.10/dist-packages (from scikit-learn) (1.26.4)\n",
            "Requirement already satisfied: scipy>=1.6.0 in /usr/local/lib/python3.10/dist-packages (from scikit-learn) (1.13.1)\n",
            "Requirement already satisfied: joblib>=1.2.0 in /usr/local/lib/python3.10/dist-packages (from scikit-learn) (1.4.2)\n",
            "Requirement already satisfied: threadpoolctl>=3.1.0 in /usr/local/lib/python3.10/dist-packages (from scikit-learn) (3.5.0)\n"
          ]
        }
      ]
    },
    {
      "cell_type": "markdown",
      "source": [
        "**Using Fuzzy algorithm**"
      ],
      "metadata": {
        "id": "PkZSKXpERFMY"
      }
    },
    {
      "cell_type": "code",
      "source": [
        "import pandas as pd\n",
        "from fuzzywuzzy import fuzz\n",
        "\n",
        "# Define the dataset of column name variations and their corresponding standard names\n",
        "column_variations = [\n",
        "    'CUST_NO', 'OBL_CODE', 'ACCT_NBR',\n",
        "    'CUST_TYPE',\n",
        "    'ACCOUNT_NUMBER', 'ACCNT_NMBR', 'ACCNT_NBR',\n",
        "    'CUS_NAME', 'CUSTOMER_NAME', 'CLIENT_NAME',\n",
        "    'PHN', 'PHONE_NUMBER', 'CONTACT_NUMBER',\n",
        "    'DOB', 'DATE_OF_BIRTH', 'BIRTHDATE',\n",
        "    'ADDR', 'ADDRESS', 'STREET_ADDRESS'\n",
        "]\n",
        "\n",
        "standard_names = [\n",
        "    'PERS_ID', 'PERS_ID', 'PERS_ID',\n",
        "    'ID_SUB_CTG',\n",
        "    'Account Number', 'Account Number', 'Account Number',\n",
        "    'Customer Name', 'Customer Name', 'Customer Name',\n",
        "    'Phone Number', 'Phone Number', 'Phone Number',\n",
        "    'Date of Birth', 'Date of Birth', 'Date of Birth',\n",
        "    'Street Address', 'Street Address', 'Street Address'\n",
        "]\n",
        "\n",
        "# Define new column name variations for prediction\n",
        "new_column_names = [\n",
        "    'ac_br', 'd_birth', 'con_nmbr', 'CU_NO',\n",
        "    'CUST_TYPE', 'CUSTYPE', 'CTYPE'\n",
        "    ]\n",
        "\n",
        "# A dictionary to map common abbreviations to their full names\n",
        "abbreviation_map = {\n",
        "    'ac_br': 'Account Number',\n",
        "    'd_birth': 'Date of Birth',\n",
        "    'con_nmbr': 'Phone Number',\n",
        "    'add_r': 'Street Address',\n",
        "    # Add more mappings here as necessary\n",
        "}\n",
        "\n",
        "# Function to predict the standard column name using fuzzy matching or abbreviation map\n",
        "def predict_column_name(new_name, column_variations, standard_names, abbreviation_map):\n",
        "    # Check if the new name is in the abbreviation map\n",
        "    if new_name in abbreviation_map:\n",
        "        return abbreviation_map[new_name]\n",
        "\n",
        "    # Use fuzzy matching to compare the new name with all column variations\n",
        "    similarities = [(var, fuzz.ratio(new_name, var)) for var in column_variations]\n",
        "    # Sort by similarity score in descending order\n",
        "    similarities.sort(key=lambda x: x[1], reverse=True)\n",
        "\n",
        "    # Check for threshold similarity (to avoid incorrect matches)\n",
        "    threshold = 60  # Lowered threshold for better matching\n",
        "    if similarities[0][1] < threshold:\n",
        "        return \"Unknown\"  # If the match is not strong enough, return \"Unknown\"\n",
        "\n",
        "    # Return the standard name corresponding to the highest similarity match\n",
        "    max_similarity_idx = column_variations.index(similarities[0][0])\n",
        "    return standard_names[max_similarity_idx]\n",
        "\n",
        "# Function to predict the SQL data type based on the column name\n",
        "def predict_data_type(column_name):\n",
        "    # Map column names to SQL data types\n",
        "    column_name = column_name.lower()\n",
        "\n",
        "    if 'account' in column_name or 'phn' in column_name or 'number' in column_name:\n",
        "        return 'VARCHAR(255)'  # Account Number, Phone Number, etc. are typically VARCHAR\n",
        "    elif 'date' in column_name or 'dob' in column_name:\n",
        "        return 'DATE'  # Date fields like Date of Birth are DATE\n",
        "    elif 'address' in column_name or 'street' in column_name:\n",
        "        return 'VARCHAR(255)'  # Address fields are VARCHAR\n",
        "    else:\n",
        "        return 'TEXT'  # Default to TEXT if no specific pattern is found\n",
        "\n",
        "# Predict standard column names and their corresponding data types for the new variations\n",
        "predicted_column_names_and_types = []\n",
        "for new_column in new_column_names:\n",
        "    predicted_name = predict_column_name(new_column, column_variations, standard_names, abbreviation_map)\n",
        "\n",
        "    # If \"Unknown\" is returned, handle this case.\n",
        "    if predicted_name == \"Unknown\":\n",
        "        print(f\"Warning: Unable to predict a standard name for column '{new_column}'.\")\n",
        "        predicted_type = 'TEXT'  # Default to TEXT type if not recognized\n",
        "    else:\n",
        "        predicted_type = predict_data_type(predicted_name)\n",
        "\n",
        "    predicted_column_names_and_types.append((predicted_name, predicted_type))\n",
        "\n",
        "# SQL CREATE TABLE generation based on predicted column names and types\n",
        "def generate_create_table_query(predicted_column_names_and_types, table_name):\n",
        "    sql_query = f\"CREATE TABLE {table_name} (\\n\"\n",
        "\n",
        "    for col_name, col_type in predicted_column_names_and_types:\n",
        "        # Convert column name to lowercase with underscores (standard SQL style)\n",
        "        sql_query += f\"    {col_name.replace(' ', '_').lower()} {col_type} NOT NULL,\\n\"\n",
        "\n",
        "    # Remove the trailing comma for the last column\n",
        "    sql_query = sql_query.rstrip(',\\n') + \"\\n);\"\n",
        "\n",
        "    return sql_query\n",
        "\n",
        "# Generate the SQL CREATE TABLE query based on the predicted column names and types\n",
        "table_name = \"predicted_table\"\n",
        "create_table_query = generate_create_table_query(predicted_column_names_and_types, table_name)\n",
        "\n",
        "# Output the predicted column names, data types, and the SQL query\n",
        "print(\"Predicted Column Names and Types:\")\n",
        "for col_name, col_type in predicted_column_names_and_types:\n",
        "    print(f\"{col_name}: {col_type}\")\n",
        "\n",
        "print(\"\\nGenerated SQL CREATE TABLE Query:\")\n",
        "print(create_table_query)\n"
      ],
      "metadata": {
        "colab": {
          "base_uri": "https://localhost:8080/"
        },
        "id": "02MR-rj34tle",
        "outputId": "759aa79c-56cb-497d-e6f4-8a112da8793d"
      },
      "execution_count": 21,
      "outputs": [
        {
          "output_type": "stream",
          "name": "stdout",
          "text": [
            "Predicted Column Names and Types:\n",
            "Account Number: VARCHAR(255)\n",
            "Date of Birth: DATE\n",
            "Phone Number: VARCHAR(255)\n",
            "PERS_ID: TEXT\n",
            "ID_SUB_CTG: TEXT\n",
            "ID_SUB_CTG: TEXT\n",
            "ID_SUB_CTG: TEXT\n",
            "\n",
            "Generated SQL CREATE TABLE Query:\n",
            "CREATE TABLE predicted_table (\n",
            "    account_number VARCHAR(255) NOT NULL,\n",
            "    date_of_birth DATE NOT NULL,\n",
            "    phone_number VARCHAR(255) NOT NULL,\n",
            "    pers_id TEXT NOT NULL,\n",
            "    id_sub_ctg TEXT NOT NULL,\n",
            "    id_sub_ctg TEXT NOT NULL,\n",
            "    id_sub_ctg TEXT NOT NULL\n",
            ");\n"
          ]
        }
      ]
    },
    {
      "cell_type": "markdown",
      "source": [
        "**Using Random Forest**"
      ],
      "metadata": {
        "id": "oL6VfodCRz_j"
      }
    },
    {
      "cell_type": "code",
      "source": [
        "import pandas as pd\n",
        "from sklearn.model_selection import train_test_split\n",
        "from sklearn.feature_extraction.text import TfidfVectorizer\n",
        "from sklearn.ensemble import RandomForestClassifier\n",
        "from sklearn.metrics import accuracy_score\n",
        "from sklearn.pipeline import make_pipeline\n",
        "\n",
        "# Define the dataset of column name variations and their corresponding standard names\n",
        "column_variations = [\n",
        "    'ACC_NUMBER', 'ACCNBR', 'ACC_NBR', 'ACNMBR',\n",
        "    'ACCOUNT_NUMBER', 'ACCNT_NMBR', 'ACCNT_NBR',\n",
        "    'CUS_NAME', 'CUSTOMER_NAME', 'CLIENT_NAME',\n",
        "    'PHN', 'PHONE_NUMBER', 'CONTACT_NUMBER',\n",
        "    'DOB', 'DATE_OF_BIRTH', 'BIRTHDATE',\n",
        "    'ADDR', 'ADDRESS', 'STREET_ADDRESS'\n",
        "]\n",
        "\n",
        "standard_names = [\n",
        "    'Account Number', 'Account Number', 'Account Number', 'Account Number',\n",
        "    'Account Number', 'Account Number', 'Account Number',\n",
        "    'Customer Name', 'Customer Name', 'Customer Name',\n",
        "    'Phone Number', 'Phone Number', 'Phone Number',\n",
        "    'Date of Birth', 'Date of Birth', 'Date of Birth',\n",
        "    'Street Address', 'Street Address', 'Street Address'\n",
        "]\n",
        "\n",
        "# Define new column name variations for prediction\n",
        "new_column_names = ['ac_br', 'd_birth', 'con_nmbr']\n",
        "\n",
        "# Create a DataFrame from the column variations and their corresponding standard names\n",
        "data = pd.DataFrame({\n",
        "    'column_variation': column_variations,\n",
        "    'standard_name': standard_names\n",
        "})\n",
        "\n",
        "# Split the dataset into features (X) and target (y)\n",
        "X = data['column_variation']\n",
        "y = data['standard_name']\n",
        "\n",
        "# Split the data into training and testing sets (80% training, 20% testing)\n",
        "X_train, X_test, y_train, y_test = train_test_split(X, y, test_size=0.2, random_state=42)\n",
        "\n",
        "# Create a pipeline that first transforms the text data and then applies a classifier\n",
        "model = make_pipeline(\n",
        "    TfidfVectorizer(),  # Converts column names into numerical features\n",
        "    RandomForestClassifier(n_estimators=100, random_state=42)  # Random Forest Classifier\n",
        ")\n",
        "\n",
        "# Train the model\n",
        "model.fit(X_train, y_train)\n",
        "\n",
        "# Make predictions on the test set\n",
        "y_pred = model.predict(X_test)\n",
        "\n",
        "# Evaluate the model's performance\n",
        "accuracy = accuracy_score(y_test, y_pred)\n",
        "print(f\"Model Accuracy: {accuracy * 100:.2f}%\")\n",
        "\n",
        "# Now, let's use the trained model to predict new column names\n",
        "predicted_names = model.predict(new_column_names)\n",
        "\n",
        "# Function to predict SQL data type based on the column name\n",
        "def predict_data_type(column_name):\n",
        "    column_name = column_name.lower()\n",
        "\n",
        "    if 'account' in column_name or 'phn' in column_name or 'number' in column_name:\n",
        "        return 'VARCHAR(255)'  # Account Number, Phone Number, etc. are typically VARCHAR\n",
        "    elif 'date' in column_name or 'dob' in column_name:\n",
        "        return 'DATE'  # Date fields like Date of Birth are DATE\n",
        "    elif 'address' in column_name or 'street' in column_name:\n",
        "        return 'VARCHAR(255)'  # Address fields are VARCHAR\n",
        "    else:\n",
        "        return 'TEXT'  # Default to TEXT if no specific pattern is found\n",
        "\n",
        "# Predict standard names and data types for new column variations\n",
        "predicted_column_names_and_types = []\n",
        "for new_column, predicted_name in zip(new_column_names, predicted_names):\n",
        "    predicted_type = predict_data_type(predicted_name)\n",
        "    predicted_column_names_and_types.append((predicted_name, predicted_type))\n",
        "\n",
        "# SQL CREATE TABLE generation based on predicted column names and types\n",
        "def generate_create_table_query(predicted_column_names_and_types, table_name):\n",
        "    sql_query = f\"CREATE TABLE {table_name} (\\n\"\n",
        "\n",
        "    for col_name, col_type in predicted_column_names_and_types:\n",
        "        # Convert column name to lowercase with underscores (standard SQL style)\n",
        "        sql_query += f\"    {col_name.replace(' ', '_').lower()} {col_type} NOT NULL,\\n\"\n",
        "\n",
        "    # Remove the trailing comma for the last column\n",
        "    sql_query = sql_query.rstrip(',\\n') + \"\\n);\"\n",
        "\n",
        "    return sql_query\n",
        "\n",
        "# Generate the SQL CREATE TABLE query based on the predicted column names and types\n",
        "table_name = \"predicted_table\"\n",
        "create_table_query = generate_create_table_query(predicted_column_names_and_types, table_name)\n",
        "\n",
        "# Output the predicted column names, data types, and the SQL query\n",
        "print(\"\\nPredicted Column Names and Types:\")\n",
        "for col_name, col_type in predicted_column_names_and_types:\n",
        "    print(f\"{col_name}: {col_type}\")\n",
        "\n",
        "print(\"\\nGenerated SQL CREATE TABLE Query:\")\n",
        "print(create_table_query)\n"
      ],
      "metadata": {
        "colab": {
          "base_uri": "https://localhost:8080/"
        },
        "id": "0pQBguM6RzJr",
        "outputId": "028b0cf7-e583-45eb-cfdf-487caa57c542"
      },
      "execution_count": 2,
      "outputs": [
        {
          "output_type": "stream",
          "name": "stdout",
          "text": [
            "Model Accuracy: 60.00%\n",
            "\n",
            "Predicted Column Names and Types:\n",
            "Account Number: VARCHAR(255)\n",
            "Account Number: VARCHAR(255)\n",
            "Account Number: VARCHAR(255)\n",
            "\n",
            "Generated SQL CREATE TABLE Query:\n",
            "CREATE TABLE predicted_table (\n",
            "    account_number VARCHAR(255) NOT NULL,\n",
            "    account_number VARCHAR(255) NOT NULL,\n",
            "    account_number VARCHAR(255) NOT NULL\n",
            ");\n"
          ]
        }
      ]
    },
    {
      "cell_type": "markdown",
      "source": [
        "**Random Forest without Training**"
      ],
      "metadata": {
        "id": "sPpuvYLhdZxy"
      }
    },
    {
      "cell_type": "code",
      "source": [
        "import pandas as pd\n",
        "from sklearn.feature_extraction.text import TfidfVectorizer\n",
        "from sklearn.ensemble import RandomForestClassifier\n",
        "from sklearn.pipeline import make_pipeline\n",
        "from sklearn.metrics import accuracy_score, confusion_matrix, precision_score, recall_score, ConfusionMatrixDisplay\n",
        "\n",
        "# Define the dataset of column name variations and their corresponding standard names\n",
        "column_variations = [\n",
        "    'CUST_NO', 'OBL_CODE', 'ACCT_NBR',\n",
        "    'CUST_TYPE',\n",
        "    'ACC_NUMBER', 'ACCNBR', 'ACC_NBR', 'ACNMBR',\n",
        "    'ACCOUNT_NUMBER', 'ACCNT_NMBR', 'ACCNT_NBR',\n",
        "    'CUS_NAME', 'CUSTOMER_NAME', 'CLIENT_NAME',\n",
        "    'PHN', 'PHONE_NUMBER', 'CONTACT_NUMBER',\n",
        "    'DOB', 'DATE_OF_BIRTH', 'BIRTHDATE',\n",
        "    'ADDR', 'ADDRESS', 'STREET_ADDRESS',\n",
        "    'AC_BR', 'D_BIRTH', 'CON_NMBR'  # Additional variations added for the new prediction\n",
        "]\n",
        "\n",
        "standard_names = [\n",
        "    'PERS_ID', 'PERS_ID', 'PERS_ID',\n",
        "    'ID_SUB_CTG',\n",
        "    'Account Number', 'Account Number', 'Account Number', 'Account Number',\n",
        "    'Account Number', 'Account Number', 'Account Number',\n",
        "    'Customer Name', 'Customer Name', 'Customer Name',\n",
        "    'Phone Number', 'Phone Number', 'Phone Number',\n",
        "    'Date of Birth', 'Date of Birth', 'Date of Birth',\n",
        "    'Street Address', 'Street Address', 'Street Address',\n",
        "    'Account Number', 'Date of Birth', 'Phone Number'  # These correspond to the new variations\n",
        "]\n",
        "\n",
        "# Define new column name variations for prediction\n",
        "new_column_names = ['ac_br', 'd_birth', 'con_nmbr', 'OBL_CODE']\n",
        "\n",
        "# Create a DataFrame from the column variations and their corresponding standard names\n",
        "data = pd.DataFrame({\n",
        "    'column_variation': column_variations,\n",
        "    'standard_name': standard_names\n",
        "})\n",
        "\n",
        "# Create a pipeline that first transforms the text data and then applies a classifier\n",
        "model = make_pipeline(\n",
        "    TfidfVectorizer(),  # Converts column names into numerical features\n",
        "    RandomForestClassifier(n_estimators=100, random_state=42)  # Random Forest Classifier\n",
        ")\n",
        "\n",
        "# Train the model on all the available data\n",
        "model.fit(data['column_variation'], data['standard_name'])\n",
        "\n",
        "# Evaluate the model's performance\n",
        "accuracy = accuracy_score(y_test, y_pred)\n",
        "print(f\"Model Accuracy: {accuracy * 100:.2f}%\")\n",
        "\n",
        "accuracy = accuracy_score(y_test, y_pred)\n",
        "precision = precision_score(y_test, y_pred)\n",
        "recall = recall_score(y_test, y_pred)\n",
        "\n",
        "print(\"Accuracy:\", accuracy)\n",
        "print(\"Precision:\", precision)\n",
        "print(\"Recall:\", recall)\n",
        "\n",
        "# Now, let's use the trained model to predict new column names\n",
        "predicted_names = model.predict(new_column_names)\n",
        "\n",
        "# Function to predict SQL data type based on the column name\n",
        "def predict_data_type(column_name):\n",
        "    column_name = column_name.lower()\n",
        "\n",
        "    if 'account' in column_name or 'phn' in column_name or 'number' in column_name:\n",
        "        return 'VARCHAR(255)'  # Account Number, Phone Number, etc. are typically VARCHAR\n",
        "    elif 'date' in column_name or 'dob' in column_name:\n",
        "        return 'DATE'  # Date fields like Date of Birth are DATE\n",
        "    elif 'address' in column_name or 'street' in column_name:\n",
        "        return 'VARCHAR(255)'  # Address fields are VARCHAR\n",
        "    else:\n",
        "        return 'TEXT'  # Default to TEXT if no specific pattern is found\n",
        "\n",
        "# Predict standard names and data types for new column variations\n",
        "predicted_column_names_and_types = []\n",
        "for new_column, predicted_name in zip(new_column_names, predicted_names):\n",
        "    predicted_type = predict_data_type(predicted_name)\n",
        "    predicted_column_names_and_types.append((predicted_name, predicted_type))\n",
        "\n",
        "# SQL CREATE TABLE generation based on predicted column names and types\n",
        "def generate_create_table_query(predicted_column_names_and_types, table_name):\n",
        "    sql_query = f\"CREATE TABLE {table_name} (\\n\"\n",
        "\n",
        "    for col_name, col_type in predicted_column_names_and_types:\n",
        "        # Convert column name to lowercase with underscores (standard SQL style)\n",
        "        sql_query += f\"    {col_name.replace(' ', '_').lower()} {col_type} NOT NULL,\\n\"\n",
        "\n",
        "    # Remove the trailing comma for the last column\n",
        "    sql_query = sql_query.rstrip(',\\n') + \"\\n);\"\n",
        "\n",
        "    return sql_query\n",
        "\n",
        "# Generate the SQL CREATE TABLE query based on the predicted column names and types\n",
        "table_name = \"predicted_table\"\n",
        "create_table_query = generate_create_table_query(predicted_column_names_and_types, table_name)\n",
        "\n",
        "# Output the predicted column names, data types, and the SQL query\n",
        "print(\"\\nPredicted Column Names and Types:\")\n",
        "for col_name, col_type in predicted_column_names_and_types:\n",
        "    print(f\"{col_name}: {col_type}\")\n",
        "\n",
        "print(\"\\nGenerated SQL CREATE TABLE Query:\")\n",
        "print(create_table_query)\n"
      ],
      "metadata": {
        "colab": {
          "base_uri": "https://localhost:8080/",
          "height": 423
        },
        "id": "Kot4VzMUdZGZ",
        "outputId": "5ff41290-3cd7-43ce-bfa2-8f979f6a5c7d"
      },
      "execution_count": 16,
      "outputs": [
        {
          "output_type": "stream",
          "name": "stdout",
          "text": [
            "Model Accuracy: 60.00%\n"
          ]
        },
        {
          "output_type": "error",
          "ename": "ValueError",
          "evalue": "Target is multiclass but average='binary'. Please choose another average setting, one of [None, 'micro', 'macro', 'weighted'].",
          "traceback": [
            "\u001b[0;31m---------------------------------------------------------------------------\u001b[0m",
            "\u001b[0;31mValueError\u001b[0m                                Traceback (most recent call last)",
            "\u001b[0;32m<ipython-input-16-3f48a0e15c8d>\u001b[0m in \u001b[0;36m<cell line: 55>\u001b[0;34m()\u001b[0m\n\u001b[1;32m     53\u001b[0m \u001b[0;34m\u001b[0m\u001b[0m\n\u001b[1;32m     54\u001b[0m \u001b[0maccuracy\u001b[0m \u001b[0;34m=\u001b[0m \u001b[0maccuracy_score\u001b[0m\u001b[0;34m(\u001b[0m\u001b[0my_test\u001b[0m\u001b[0;34m,\u001b[0m \u001b[0my_pred\u001b[0m\u001b[0;34m)\u001b[0m\u001b[0;34m\u001b[0m\u001b[0;34m\u001b[0m\u001b[0m\n\u001b[0;32m---> 55\u001b[0;31m \u001b[0mprecision\u001b[0m \u001b[0;34m=\u001b[0m \u001b[0mprecision_score\u001b[0m\u001b[0;34m(\u001b[0m\u001b[0my_test\u001b[0m\u001b[0;34m,\u001b[0m \u001b[0my_pred\u001b[0m\u001b[0;34m)\u001b[0m\u001b[0;34m\u001b[0m\u001b[0;34m\u001b[0m\u001b[0m\n\u001b[0m\u001b[1;32m     56\u001b[0m \u001b[0mrecall\u001b[0m \u001b[0;34m=\u001b[0m \u001b[0mrecall_score\u001b[0m\u001b[0;34m(\u001b[0m\u001b[0my_test\u001b[0m\u001b[0;34m,\u001b[0m \u001b[0my_pred\u001b[0m\u001b[0;34m)\u001b[0m\u001b[0;34m\u001b[0m\u001b[0;34m\u001b[0m\u001b[0m\n\u001b[1;32m     57\u001b[0m \u001b[0;34m\u001b[0m\u001b[0m\n",
            "\u001b[0;32m/usr/local/lib/python3.10/dist-packages/sklearn/utils/_param_validation.py\u001b[0m in \u001b[0;36mwrapper\u001b[0;34m(*args, **kwargs)\u001b[0m\n\u001b[1;32m    214\u001b[0m                     )\n\u001b[1;32m    215\u001b[0m                 ):\n\u001b[0;32m--> 216\u001b[0;31m                     \u001b[0;32mreturn\u001b[0m \u001b[0mfunc\u001b[0m\u001b[0;34m(\u001b[0m\u001b[0;34m*\u001b[0m\u001b[0margs\u001b[0m\u001b[0;34m,\u001b[0m \u001b[0;34m**\u001b[0m\u001b[0mkwargs\u001b[0m\u001b[0;34m)\u001b[0m\u001b[0;34m\u001b[0m\u001b[0;34m\u001b[0m\u001b[0m\n\u001b[0m\u001b[1;32m    217\u001b[0m             \u001b[0;32mexcept\u001b[0m \u001b[0mInvalidParameterError\u001b[0m \u001b[0;32mas\u001b[0m \u001b[0me\u001b[0m\u001b[0;34m:\u001b[0m\u001b[0;34m\u001b[0m\u001b[0;34m\u001b[0m\u001b[0m\n\u001b[1;32m    218\u001b[0m                 \u001b[0;31m# When the function is just a wrapper around an estimator, we allow\u001b[0m\u001b[0;34m\u001b[0m\u001b[0;34m\u001b[0m\u001b[0m\n",
            "\u001b[0;32m/usr/local/lib/python3.10/dist-packages/sklearn/metrics/_classification.py\u001b[0m in \u001b[0;36mprecision_score\u001b[0;34m(y_true, y_pred, labels, pos_label, average, sample_weight, zero_division)\u001b[0m\n\u001b[1;32m   2245\u001b[0m     \u001b[0marray\u001b[0m\u001b[0;34m(\u001b[0m\u001b[0;34m[\u001b[0m\u001b[0;36m0.5\u001b[0m\u001b[0;34m,\u001b[0m \u001b[0;36m1.\u001b[0m \u001b[0;34m,\u001b[0m \u001b[0;36m1.\u001b[0m \u001b[0;34m]\u001b[0m\u001b[0;34m)\u001b[0m\u001b[0;34m\u001b[0m\u001b[0;34m\u001b[0m\u001b[0m\n\u001b[1;32m   2246\u001b[0m     \"\"\"\n\u001b[0;32m-> 2247\u001b[0;31m     p, _, _, _ = precision_recall_fscore_support(\n\u001b[0m\u001b[1;32m   2248\u001b[0m         \u001b[0my_true\u001b[0m\u001b[0;34m,\u001b[0m\u001b[0;34m\u001b[0m\u001b[0;34m\u001b[0m\u001b[0m\n\u001b[1;32m   2249\u001b[0m         \u001b[0my_pred\u001b[0m\u001b[0;34m,\u001b[0m\u001b[0;34m\u001b[0m\u001b[0;34m\u001b[0m\u001b[0m\n",
            "\u001b[0;32m/usr/local/lib/python3.10/dist-packages/sklearn/utils/_param_validation.py\u001b[0m in \u001b[0;36mwrapper\u001b[0;34m(*args, **kwargs)\u001b[0m\n\u001b[1;32m    187\u001b[0m             \u001b[0mglobal_skip_validation\u001b[0m \u001b[0;34m=\u001b[0m \u001b[0mget_config\u001b[0m\u001b[0;34m(\u001b[0m\u001b[0;34m)\u001b[0m\u001b[0;34m[\u001b[0m\u001b[0;34m\"skip_parameter_validation\"\u001b[0m\u001b[0;34m]\u001b[0m\u001b[0;34m\u001b[0m\u001b[0;34m\u001b[0m\u001b[0m\n\u001b[1;32m    188\u001b[0m             \u001b[0;32mif\u001b[0m \u001b[0mglobal_skip_validation\u001b[0m\u001b[0;34m:\u001b[0m\u001b[0;34m\u001b[0m\u001b[0;34m\u001b[0m\u001b[0m\n\u001b[0;32m--> 189\u001b[0;31m                 \u001b[0;32mreturn\u001b[0m \u001b[0mfunc\u001b[0m\u001b[0;34m(\u001b[0m\u001b[0;34m*\u001b[0m\u001b[0margs\u001b[0m\u001b[0;34m,\u001b[0m \u001b[0;34m**\u001b[0m\u001b[0mkwargs\u001b[0m\u001b[0;34m)\u001b[0m\u001b[0;34m\u001b[0m\u001b[0;34m\u001b[0m\u001b[0m\n\u001b[0m\u001b[1;32m    190\u001b[0m \u001b[0;34m\u001b[0m\u001b[0m\n\u001b[1;32m    191\u001b[0m             \u001b[0mfunc_sig\u001b[0m \u001b[0;34m=\u001b[0m \u001b[0msignature\u001b[0m\u001b[0;34m(\u001b[0m\u001b[0mfunc\u001b[0m\u001b[0;34m)\u001b[0m\u001b[0;34m\u001b[0m\u001b[0;34m\u001b[0m\u001b[0m\n",
            "\u001b[0;32m/usr/local/lib/python3.10/dist-packages/sklearn/metrics/_classification.py\u001b[0m in \u001b[0;36mprecision_recall_fscore_support\u001b[0;34m(y_true, y_pred, beta, labels, pos_label, average, warn_for, sample_weight, zero_division)\u001b[0m\n\u001b[1;32m   1828\u001b[0m     \"\"\"\n\u001b[1;32m   1829\u001b[0m     \u001b[0m_check_zero_division\u001b[0m\u001b[0;34m(\u001b[0m\u001b[0mzero_division\u001b[0m\u001b[0;34m)\u001b[0m\u001b[0;34m\u001b[0m\u001b[0;34m\u001b[0m\u001b[0m\n\u001b[0;32m-> 1830\u001b[0;31m     \u001b[0mlabels\u001b[0m \u001b[0;34m=\u001b[0m \u001b[0m_check_set_wise_labels\u001b[0m\u001b[0;34m(\u001b[0m\u001b[0my_true\u001b[0m\u001b[0;34m,\u001b[0m \u001b[0my_pred\u001b[0m\u001b[0;34m,\u001b[0m \u001b[0maverage\u001b[0m\u001b[0;34m,\u001b[0m \u001b[0mlabels\u001b[0m\u001b[0;34m,\u001b[0m \u001b[0mpos_label\u001b[0m\u001b[0;34m)\u001b[0m\u001b[0;34m\u001b[0m\u001b[0;34m\u001b[0m\u001b[0m\n\u001b[0m\u001b[1;32m   1831\u001b[0m \u001b[0;34m\u001b[0m\u001b[0m\n\u001b[1;32m   1832\u001b[0m     \u001b[0;31m# Calculate tp_sum, pred_sum, true_sum ###\u001b[0m\u001b[0;34m\u001b[0m\u001b[0;34m\u001b[0m\u001b[0m\n",
            "\u001b[0;32m/usr/local/lib/python3.10/dist-packages/sklearn/metrics/_classification.py\u001b[0m in \u001b[0;36m_check_set_wise_labels\u001b[0;34m(y_true, y_pred, average, labels, pos_label)\u001b[0m\n\u001b[1;32m   1611\u001b[0m             \u001b[0;32mif\u001b[0m \u001b[0my_type\u001b[0m \u001b[0;34m==\u001b[0m \u001b[0;34m\"multiclass\"\u001b[0m\u001b[0;34m:\u001b[0m\u001b[0;34m\u001b[0m\u001b[0;34m\u001b[0m\u001b[0m\n\u001b[1;32m   1612\u001b[0m                 \u001b[0maverage_options\u001b[0m\u001b[0;34m.\u001b[0m\u001b[0mremove\u001b[0m\u001b[0;34m(\u001b[0m\u001b[0;34m\"samples\"\u001b[0m\u001b[0;34m)\u001b[0m\u001b[0;34m\u001b[0m\u001b[0;34m\u001b[0m\u001b[0m\n\u001b[0;32m-> 1613\u001b[0;31m             raise ValueError(\n\u001b[0m\u001b[1;32m   1614\u001b[0m                 \u001b[0;34m\"Target is %s but average='binary'. Please \"\u001b[0m\u001b[0;34m\u001b[0m\u001b[0;34m\u001b[0m\u001b[0m\n\u001b[1;32m   1615\u001b[0m                 \u001b[0;34m\"choose another average setting, one of %r.\"\u001b[0m \u001b[0;34m%\u001b[0m \u001b[0;34m(\u001b[0m\u001b[0my_type\u001b[0m\u001b[0;34m,\u001b[0m \u001b[0maverage_options\u001b[0m\u001b[0;34m)\u001b[0m\u001b[0;34m\u001b[0m\u001b[0;34m\u001b[0m\u001b[0m\n",
            "\u001b[0;31mValueError\u001b[0m: Target is multiclass but average='binary'. Please choose another average setting, one of [None, 'micro', 'macro', 'weighted']."
          ]
        }
      ]
    },
    {
      "cell_type": "markdown",
      "source": [
        "Show Diagram Feature"
      ],
      "metadata": {
        "id": "0brRCXlQgNoA"
      }
    },
    {
      "cell_type": "code",
      "source": [
        "import matplotlib.pyplot as plt\n",
        "import seaborn as sns\n",
        "\n",
        "# Get the feature importances from the trained model\n",
        "importances = model.named_steps['randomforestclassifier'].feature_importances_\n",
        "\n",
        "# Get the feature names from the TF-IDF vectorizer (vocabulary)\n",
        "vectorizer = model.named_steps['tfidfvectorizer']\n",
        "feature_names = vectorizer.get_feature_names_out()\n",
        "\n",
        "# Create a DataFrame for feature importances and their corresponding feature names\n",
        "feature_importance_df = pd.DataFrame({\n",
        "    'Feature': feature_names,\n",
        "    'Importance': importances\n",
        "})\n",
        "\n",
        "# Sort the DataFrame by importance in descending order\n",
        "feature_importance_df = feature_importance_df.sort_values(by='Importance', ascending=False)\n",
        "\n",
        "# Plot the feature importances using seaborn\n",
        "plt.figure(figsize=(10, 6))\n",
        "sns.barplot(x='Importance', y='Feature', data=feature_importance_df)\n",
        "plt.title('Feature Importance in Random Forest Model')\n",
        "plt.xlabel('Importance')\n",
        "plt.ylabel('Feature')\n",
        "plt.show()"
      ],
      "metadata": {
        "colab": {
          "base_uri": "https://localhost:8080/",
          "height": 564
        },
        "id": "z5RUNTrbfg4_",
        "outputId": "2abe2245-c5d1-4e49-df1a-781115acad62"
      },
      "execution_count": 8,
      "outputs": [
        {
          "output_type": "display_data",
          "data": {
            "text/plain": [
              "<Figure size 1000x600 with 1 Axes>"
            ],
            "image/png": "[encoded data removed]"
          },
          "metadata": {}
        }
      ]
    },
    {
      "cell_type": "markdown",
      "source": [
        "Show Diagram Tree"
      ],
      "metadata": {
        "id": "s9X4czPrgY4Q"
      }
    },
    {
      "cell_type": "code",
      "source": [
        "import pandas as pd\n",
        "import matplotlib.pyplot as plt\n",
        "from sklearn.tree import plot_tree\n",
        "from sklearn.tree import export_graphviz\n",
        "import graphviz\n",
        "\n",
        "# Get the trained Random Forest model\n",
        "rf_model = model.named_steps['randomforestclassifier']\n",
        "\n",
        "# Loop through the first 3 trees in the Random Forest and visualize them\n",
        "for i in range(3):  # You can change this number to visualize more trees\n",
        "    tree = rf_model.estimators_[i]\n",
        "\n",
        "    # Export tree to DOT format\n",
        "    dot_data = export_graphviz(tree,\n",
        "                               feature_names=model.named_steps['tfidfvectorizer'].get_feature_names_out(),\n",
        "                               filled=True,\n",
        "                               max_depth=3,  # Limit the depth of the tree for better readability\n",
        "                               impurity=False,\n",
        "                               proportion=True)\n",
        "\n",
        "    # Generate and display the tree graph\n",
        "    graph = graphviz.Source(dot_data)\n",
        "    graph.render(f\"tree_{i}.pdf\", view=True)  # Optionally save the graph as a PDF and open it\n",
        "    display(graph)  # Display the graph inline (works in Jupyter Notebook)"
      ],
      "metadata": {
        "id": "oT9SjloUgThv",
        "outputId": "e2c22510-7f1d-4cc1-97f2-a5cfd79fc92f",
        "colab": {
          "base_uri": "https://localhost:8080/",
          "height": 1000
        }
      },
      "execution_count": 13,
      "outputs": [
        {
          "output_type": "display_data",
          "data": {
            "image/svg+xml": "<?xml version=\"1.0\" encoding=\"UTF-8\" standalone=\"no\"?>\n<!DOCTYPE svg PUBLIC \"-//W3C//DTD SVG 1.1//EN\"\n \"http://www.w3.org/Graphics/SVG/1.1/DTD/svg11.dtd\">\n<!-- Generated by graphviz version 2.43.0 (0)\n -->\n<!-- Title: Tree Pages: 1 -->\n<svg width=\"887pt\" height=\"400pt\"\n viewBox=\"0.00 0.00 886.50 400.00\" xmlns=\"http://www.w3.org/2000/svg\" xmlns:xlink=\"http://www.w3.org/1999/xlink\">\n<g id=\"graph0\" class=\"graph\" transform=\"scale(1 1) rotate(0) translate(4 396)\">\n<title>Tree</title>\n<polygon fill=\"white\" stroke=\"transparent\" points=\"-4,4 -4,-396 882.5,-396 882.5,4 -4,4\"/>\n<!-- 0 -->\n<g id=\"node1\" class=\"node\">\n<title>0</title>\n<polygon fill=\"#f9e3d3\" stroke=\"black\" points=\"764,-392 441,-392 441,-339 764,-339 764,-392\"/>\n<text text-anchor=\"middle\" x=\"602.5\" y=\"-376.8\" font-family=\"Helvetica,sans-Serif\" font-size=\"14.00\">accnt_nmbr &lt;= 0.5</text>\n<text text-anchor=\"middle\" x=\"602.5\" y=\"-361.8\" font-family=\"Helvetica,sans-Serif\" font-size=\"14.00\">samples = 100.0%</text>\n<text text-anchor=\"middle\" x=\"602.5\" y=\"-346.8\" font-family=\"Helvetica,sans-Serif\" font-size=\"14.00\">value = [0.462, 0.077, 0.308, 0.0, 0.115, 0.0, 0.038]</text>\n</g>\n<!-- 1 -->\n<g id=\"node2\" class=\"node\">\n<title>1</title>\n<polygon fill=\"#ffffff\" stroke=\"black\" points=\"612,-303 289,-303 289,-250 612,-250 612,-303\"/>\n<text text-anchor=\"middle\" x=\"450.5\" y=\"-287.8\" font-family=\"Helvetica,sans-Serif\" font-size=\"14.00\">dob &lt;= 0.5</text>\n<text text-anchor=\"middle\" x=\"450.5\" y=\"-272.8\" font-family=\"Helvetica,sans-Serif\" font-size=\"14.00\">samples = 92.9%</text>\n<text text-anchor=\"middle\" x=\"450.5\" y=\"-257.8\" font-family=\"Helvetica,sans-Serif\" font-size=\"14.00\">value = [0.364, 0.091, 0.364, 0.0, 0.136, 0.0, 0.045]</text>\n</g>\n<!-- 0&#45;&gt;1 -->\n<g id=\"edge1\" class=\"edge\">\n<title>0&#45;&gt;1</title>\n<path fill=\"none\" stroke=\"black\" d=\"M557.72,-338.87C540.94,-329.26 521.7,-318.25 504.2,-308.24\"/>\n<polygon fill=\"black\" stroke=\"black\" points=\"505.64,-305.03 495.23,-303.1 502.17,-311.1 505.64,-305.03\"/>\n<text text-anchor=\"middle\" x=\"501.79\" y=\"-323.52\" font-family=\"Helvetica,sans-Serif\" font-size=\"14.00\">True</text>\n</g>\n<!-- 24 -->\n<g id=\"node9\" class=\"node\">\n<title>24</title>\n<polygon fill=\"#e58139\" stroke=\"black\" points=\"878.5,-295.5 630.5,-295.5 630.5,-257.5 878.5,-257.5 878.5,-295.5\"/>\n<text text-anchor=\"middle\" x=\"754.5\" y=\"-280.3\" font-family=\"Helvetica,sans-Serif\" font-size=\"14.00\">samples = 7.1%</text>\n<text text-anchor=\"middle\" x=\"754.5\" y=\"-265.3\" font-family=\"Helvetica,sans-Serif\" font-size=\"14.00\">value = [1.0, 0.0, 0.0, 0.0, 0.0, 0.0, 0.0]</text>\n</g>\n<!-- 0&#45;&gt;24 -->\n<g id=\"edge8\" class=\"edge\">\n<title>0&#45;&gt;24</title>\n<path fill=\"none\" stroke=\"black\" d=\"M647.28,-338.87C668.49,-326.73 693.62,-312.35 714.22,-300.55\"/>\n<polygon fill=\"black\" stroke=\"black\" points=\"716.1,-303.51 723.04,-295.51 712.62,-297.44 716.1,-303.51\"/>\n<text text-anchor=\"middle\" x=\"716.48\" y=\"-315.93\" font-family=\"Helvetica,sans-Serif\" font-size=\"14.00\">False</text>\n</g>\n<!-- 2 -->\n<g id=\"node3\" class=\"node\">\n<title>2</title>\n<polygon fill=\"#fbede3\" stroke=\"black\" points=\"445,-214 182,-214 182,-161 445,-161 445,-214\"/>\n<text text-anchor=\"middle\" x=\"313.5\" y=\"-198.8\" font-family=\"Helvetica,sans-Serif\" font-size=\"14.00\">date_of_birth &lt;= 0.5</text>\n<text text-anchor=\"middle\" x=\"313.5\" y=\"-183.8\" font-family=\"Helvetica,sans-Serif\" font-size=\"14.00\">samples = 85.7%</text>\n<text text-anchor=\"middle\" x=\"313.5\" y=\"-168.8\" font-family=\"Helvetica,sans-Serif\" font-size=\"14.00\">value = [0.4, 0.1, 0.3, 0.0, 0.15, 0.0, 0.05]</text>\n</g>\n<!-- 1&#45;&gt;2 -->\n<g id=\"edge2\" class=\"edge\">\n<title>1&#45;&gt;2</title>\n<path fill=\"none\" stroke=\"black\" d=\"M410.14,-249.87C395.22,-240.39 378.15,-229.55 362.54,-219.64\"/>\n<polygon fill=\"black\" stroke=\"black\" points=\"364.37,-216.66 354.05,-214.25 360.61,-222.57 364.37,-216.66\"/>\n</g>\n<!-- 23 -->\n<g id=\"node8\" class=\"node\">\n<title>23</title>\n<polygon fill=\"#39e54d\" stroke=\"black\" points=\"711.5,-206.5 463.5,-206.5 463.5,-168.5 711.5,-168.5 711.5,-206.5\"/>\n<text text-anchor=\"middle\" x=\"587.5\" y=\"-191.3\" font-family=\"Helvetica,sans-Serif\" font-size=\"14.00\">samples = 7.1%</text>\n<text text-anchor=\"middle\" x=\"587.5\" y=\"-176.3\" font-family=\"Helvetica,sans-Serif\" font-size=\"14.00\">value = [0.0, 0.0, 1.0, 0.0, 0.0, 0.0, 0.0]</text>\n</g>\n<!-- 1&#45;&gt;23 -->\n<g id=\"edge7\" class=\"edge\">\n<title>1&#45;&gt;23</title>\n<path fill=\"none\" stroke=\"black\" d=\"M490.86,-249.87C509.81,-237.84 532.22,-223.6 550.69,-211.87\"/>\n<polygon fill=\"black\" stroke=\"black\" points=\"552.58,-214.82 559.14,-206.51 548.83,-208.91 552.58,-214.82\"/>\n</g>\n<!-- 3 -->\n<g id=\"node4\" class=\"node\">\n<title>3</title>\n<polygon fill=\"#f8dbc6\" stroke=\"black\" points=\"323,-125 0,-125 0,-72 323,-72 323,-125\"/>\n<text text-anchor=\"middle\" x=\"161.5\" y=\"-109.8\" font-family=\"Helvetica,sans-Serif\" font-size=\"14.00\">d_birth &lt;= 0.5</text>\n<text text-anchor=\"middle\" x=\"161.5\" y=\"-94.8\" font-family=\"Helvetica,sans-Serif\" font-size=\"14.00\">samples = 78.6%</text>\n<text text-anchor=\"middle\" x=\"161.5\" y=\"-79.8\" font-family=\"Helvetica,sans-Serif\" font-size=\"14.00\">value = [0.444, 0.111, 0.222, 0.0, 0.167, 0.0, 0.056]</text>\n</g>\n<!-- 2&#45;&gt;3 -->\n<g id=\"edge3\" class=\"edge\">\n<title>2&#45;&gt;3</title>\n<path fill=\"none\" stroke=\"black\" d=\"M268.72,-160.87C251.94,-151.26 232.7,-140.25 215.2,-130.24\"/>\n<polygon fill=\"black\" stroke=\"black\" points=\"216.64,-127.03 206.23,-125.1 213.17,-133.1 216.64,-127.03\"/>\n</g>\n<!-- 22 -->\n<g id=\"node7\" class=\"node\">\n<title>22</title>\n<polygon fill=\"#39e54d\" stroke=\"black\" points=\"589.5,-117.5 341.5,-117.5 341.5,-79.5 589.5,-79.5 589.5,-117.5\"/>\n<text text-anchor=\"middle\" x=\"465.5\" y=\"-102.3\" font-family=\"Helvetica,sans-Serif\" font-size=\"14.00\">samples = 7.1%</text>\n<text text-anchor=\"middle\" x=\"465.5\" y=\"-87.3\" font-family=\"Helvetica,sans-Serif\" font-size=\"14.00\">value = [0.0, 0.0, 1.0, 0.0, 0.0, 0.0, 0.0]</text>\n</g>\n<!-- 2&#45;&gt;22 -->\n<g id=\"edge6\" class=\"edge\">\n<title>2&#45;&gt;22</title>\n<path fill=\"none\" stroke=\"black\" d=\"M358.28,-160.87C379.49,-148.73 404.62,-134.35 425.22,-122.55\"/>\n<polygon fill=\"black\" stroke=\"black\" points=\"427.1,-125.51 434.04,-117.51 423.62,-119.44 427.1,-125.51\"/>\n</g>\n<!-- 4 -->\n<g id=\"node5\" class=\"node\">\n<title>4</title>\n<polygon fill=\"#c0c0c0\" stroke=\"black\" points=\"152.5,-36 98.5,-36 98.5,0 152.5,0 152.5,-36\"/>\n<text text-anchor=\"middle\" x=\"125.5\" y=\"-14.3\" font-family=\"Helvetica,sans-Serif\" font-size=\"14.00\">(...)</text>\n</g>\n<!-- 3&#45;&gt;4 -->\n<g id=\"edge4\" class=\"edge\">\n<title>3&#45;&gt;4</title>\n<path fill=\"none\" stroke=\"black\" d=\"M149.71,-71.8C145.84,-63.35 141.53,-53.95 137.63,-45.45\"/>\n<polygon fill=\"black\" stroke=\"black\" points=\"140.8,-43.96 133.45,-36.33 134.43,-46.88 140.8,-43.96\"/>\n</g>\n<!-- 21 -->\n<g id=\"node6\" class=\"node\">\n<title>21</title>\n<polygon fill=\"#c0c0c0\" stroke=\"black\" points=\"224.5,-36 170.5,-36 170.5,0 224.5,0 224.5,-36\"/>\n<text text-anchor=\"middle\" x=\"197.5\" y=\"-14.3\" font-family=\"Helvetica,sans-Serif\" font-size=\"14.00\">(...)</text>\n</g>\n<!-- 3&#45;&gt;21 -->\n<g id=\"edge5\" class=\"edge\">\n<title>3&#45;&gt;21</title>\n<path fill=\"none\" stroke=\"black\" d=\"M173.29,-71.8C177.16,-63.35 181.47,-53.95 185.37,-45.45\"/>\n<polygon fill=\"black\" stroke=\"black\" points=\"188.57,-46.88 189.55,-36.33 182.2,-43.96 188.57,-46.88\"/>\n</g>\n</g>\n</svg>\n",
            "text/plain": [
              "<graphviz.sources.Source at 0x7b5230ff4640>"
            ]
          },
          "metadata": {}
        },
        {
          "output_type": "display_data",
          "data": {
            "image/svg+xml": "<?xml version=\"1.0\" encoding=\"UTF-8\" standalone=\"no\"?>\n<!DOCTYPE svg PUBLIC \"-//W3C//DTD SVG 1.1//EN\"\n \"http://www.w3.org/Graphics/SVG/1.1/DTD/svg11.dtd\">\n<!-- Generated by graphviz version 2.43.0 (0)\n -->\n<!-- Title: Tree Pages: 1 -->\n<svg width=\"888pt\" height=\"400pt\"\n viewBox=\"0.00 0.00 888.00 400.00\" xmlns=\"http://www.w3.org/2000/svg\" xmlns:xlink=\"http://www.w3.org/1999/xlink\">\n<g id=\"graph0\" class=\"graph\" transform=\"scale(1 1) rotate(0) translate(4 396)\">\n<title>Tree</title>\n<polygon fill=\"white\" stroke=\"transparent\" points=\"-4,4 -4,-396 884,-396 884,4 -4,4\"/>\n<!-- 0 -->\n<g id=\"node1\" class=\"node\">\n<title>0</title>\n<polygon fill=\"#f8dbc6\" stroke=\"black\" points=\"767.5,-392 444.5,-392 444.5,-339 767.5,-339 767.5,-392\"/>\n<text text-anchor=\"middle\" x=\"606\" y=\"-376.8\" font-family=\"Helvetica,sans-Serif\" font-size=\"14.00\">birthdate &lt;= 0.5</text>\n<text text-anchor=\"middle\" x=\"606\" y=\"-361.8\" font-family=\"Helvetica,sans-Serif\" font-size=\"14.00\">samples = 100.0%</text>\n<text text-anchor=\"middle\" x=\"606\" y=\"-346.8\" font-family=\"Helvetica,sans-Serif\" font-size=\"14.00\">value = [0.423, 0.077, 0.192, 0.115, 0.0, 0.192, 0.0]</text>\n</g>\n<!-- 1 -->\n<g id=\"node2\" class=\"node\">\n<title>1</title>\n<polygon fill=\"#f6d5bd\" stroke=\"black\" points=\"614,-303 298,-303 298,-250 614,-250 614,-303\"/>\n<text text-anchor=\"middle\" x=\"456\" y=\"-287.8\" font-family=\"Helvetica,sans-Serif\" font-size=\"14.00\">client_name &lt;= 0.5</text>\n<text text-anchor=\"middle\" x=\"456\" y=\"-272.8\" font-family=\"Helvetica,sans-Serif\" font-size=\"14.00\">samples = 93.8%</text>\n<text text-anchor=\"middle\" x=\"456\" y=\"-257.8\" font-family=\"Helvetica,sans-Serif\" font-size=\"14.00\">value = [0.478, 0.087, 0.087, 0.13, 0.0, 0.217, 0.0]</text>\n</g>\n<!-- 0&#45;&gt;1 -->\n<g id=\"edge1\" class=\"edge\">\n<title>0&#45;&gt;1</title>\n<path fill=\"none\" stroke=\"black\" d=\"M561.81,-338.87C545.25,-329.26 526.27,-318.25 508.99,-308.24\"/>\n<polygon fill=\"black\" stroke=\"black\" points=\"510.54,-305.09 500.14,-303.1 507.03,-311.14 510.54,-305.09\"/>\n<text text-anchor=\"middle\" x=\"506.56\" y=\"-323.56\" font-family=\"Helvetica,sans-Serif\" font-size=\"14.00\">True</text>\n</g>\n<!-- 28 -->\n<g id=\"node9\" class=\"node\">\n<title>28</title>\n<polygon fill=\"#39e54d\" stroke=\"black\" points=\"880,-295.5 632,-295.5 632,-257.5 880,-257.5 880,-295.5\"/>\n<text text-anchor=\"middle\" x=\"756\" y=\"-280.3\" font-family=\"Helvetica,sans-Serif\" font-size=\"14.00\">samples = 6.2%</text>\n<text text-anchor=\"middle\" x=\"756\" y=\"-265.3\" font-family=\"Helvetica,sans-Serif\" font-size=\"14.00\">value = [0.0, 0.0, 1.0, 0.0, 0.0, 0.0, 0.0]</text>\n</g>\n<!-- 0&#45;&gt;28 -->\n<g id=\"edge8\" class=\"edge\">\n<title>0&#45;&gt;28</title>\n<path fill=\"none\" stroke=\"black\" d=\"M650.19,-338.87C671.12,-326.73 695.92,-312.35 716.25,-300.55\"/>\n<polygon fill=\"black\" stroke=\"black\" points=\"718.06,-303.55 724.95,-295.51 714.55,-297.5 718.06,-303.55\"/>\n<text text-anchor=\"middle\" x=\"718.53\" y=\"-315.97\" font-family=\"Helvetica,sans-Serif\" font-size=\"14.00\">False</text>\n</g>\n<!-- 2 -->\n<g id=\"node3\" class=\"node\">\n<title>2</title>\n<polygon fill=\"#f6d3b9\" stroke=\"black\" points=\"462,-214 154,-214 154,-161 462,-161 462,-214\"/>\n<text text-anchor=\"middle\" x=\"308\" y=\"-198.8\" font-family=\"Helvetica,sans-Serif\" font-size=\"14.00\">contact_number &lt;= 0.5</text>\n<text text-anchor=\"middle\" x=\"308\" y=\"-183.8\" font-family=\"Helvetica,sans-Serif\" font-size=\"14.00\">samples = 87.5%</text>\n<text text-anchor=\"middle\" x=\"308\" y=\"-168.8\" font-family=\"Helvetica,sans-Serif\" font-size=\"14.00\">value = [0.5, 0.045, 0.091, 0.136, 0.0, 0.227, 0.0]</text>\n</g>\n<!-- 1&#45;&gt;2 -->\n<g id=\"edge2\" class=\"edge\">\n<title>1&#45;&gt;2</title>\n<path fill=\"none\" stroke=\"black\" d=\"M412.4,-249.87C396.06,-240.26 377.33,-229.25 360.29,-219.24\"/>\n<polygon fill=\"black\" stroke=\"black\" points=\"361.94,-216.15 351.55,-214.1 358.4,-222.18 361.94,-216.15\"/>\n</g>\n<!-- 27 -->\n<g id=\"node8\" class=\"node\">\n<title>27</title>\n<polygon fill=\"#b7e539\" stroke=\"black\" points=\"728,-206.5 480,-206.5 480,-168.5 728,-168.5 728,-206.5\"/>\n<text text-anchor=\"middle\" x=\"604\" y=\"-191.3\" font-family=\"Helvetica,sans-Serif\" font-size=\"14.00\">samples = 6.2%</text>\n<text text-anchor=\"middle\" x=\"604\" y=\"-176.3\" font-family=\"Helvetica,sans-Serif\" font-size=\"14.00\">value = [0.0, 1.0, 0.0, 0.0, 0.0, 0.0, 0.0]</text>\n</g>\n<!-- 1&#45;&gt;27 -->\n<g id=\"edge7\" class=\"edge\">\n<title>1&#45;&gt;27</title>\n<path fill=\"none\" stroke=\"black\" d=\"M499.6,-249.87C520.16,-237.78 544.5,-223.47 564.51,-211.71\"/>\n<polygon fill=\"black\" stroke=\"black\" points=\"566.52,-214.59 573.37,-206.51 562.97,-208.56 566.52,-214.59\"/>\n</g>\n<!-- 3 -->\n<g id=\"node4\" class=\"node\">\n<title>3</title>\n<polygon fill=\"#f4cbad\" stroke=\"black\" points=\"316,-125 0,-125 0,-72 316,-72 316,-125\"/>\n<text text-anchor=\"middle\" x=\"158\" y=\"-109.8\" font-family=\"Helvetica,sans-Serif\" font-size=\"14.00\">cust_type &lt;= 0.5</text>\n<text text-anchor=\"middle\" x=\"158\" y=\"-94.8\" font-family=\"Helvetica,sans-Serif\" font-size=\"14.00\">samples = 81.2%</text>\n<text text-anchor=\"middle\" x=\"158\" y=\"-79.8\" font-family=\"Helvetica,sans-Serif\" font-size=\"14.00\">value = [0.524, 0.048, 0.095, 0.143, 0.0, 0.19, 0.0]</text>\n</g>\n<!-- 2&#45;&gt;3 -->\n<g id=\"edge3\" class=\"edge\">\n<title>2&#45;&gt;3</title>\n<path fill=\"none\" stroke=\"black\" d=\"M263.81,-160.87C247.25,-151.26 228.27,-140.25 210.99,-130.24\"/>\n<polygon fill=\"black\" stroke=\"black\" points=\"212.54,-127.09 202.14,-125.1 209.03,-133.14 212.54,-127.09\"/>\n</g>\n<!-- 26 -->\n<g id=\"node7\" class=\"node\">\n<title>26</title>\n<polygon fill=\"#b139e5\" stroke=\"black\" points=\"582,-117.5 334,-117.5 334,-79.5 582,-79.5 582,-117.5\"/>\n<text text-anchor=\"middle\" x=\"458\" y=\"-102.3\" font-family=\"Helvetica,sans-Serif\" font-size=\"14.00\">samples = 6.2%</text>\n<text text-anchor=\"middle\" x=\"458\" y=\"-87.3\" font-family=\"Helvetica,sans-Serif\" font-size=\"14.00\">value = [0.0, 0.0, 0.0, 0.0, 0.0, 1.0, 0.0]</text>\n</g>\n<!-- 2&#45;&gt;26 -->\n<g id=\"edge6\" class=\"edge\">\n<title>2&#45;&gt;26</title>\n<path fill=\"none\" stroke=\"black\" d=\"M352.19,-160.87C373.12,-148.73 397.92,-134.35 418.25,-122.55\"/>\n<polygon fill=\"black\" stroke=\"black\" points=\"420.06,-125.55 426.95,-117.51 416.55,-119.5 420.06,-125.55\"/>\n</g>\n<!-- 4 -->\n<g id=\"node5\" class=\"node\">\n<title>4</title>\n<polygon fill=\"#c0c0c0\" stroke=\"black\" points=\"149,-36 95,-36 95,0 149,0 149,-36\"/>\n<text text-anchor=\"middle\" x=\"122\" y=\"-14.3\" font-family=\"Helvetica,sans-Serif\" font-size=\"14.00\">(...)</text>\n</g>\n<!-- 3&#45;&gt;4 -->\n<g id=\"edge4\" class=\"edge\">\n<title>3&#45;&gt;4</title>\n<path fill=\"none\" stroke=\"black\" d=\"M146.21,-71.8C142.34,-63.35 138.03,-53.95 134.13,-45.45\"/>\n<polygon fill=\"black\" stroke=\"black\" points=\"137.3,-43.96 129.95,-36.33 130.93,-46.88 137.3,-43.96\"/>\n</g>\n<!-- 25 -->\n<g id=\"node6\" class=\"node\">\n<title>25</title>\n<polygon fill=\"#c0c0c0\" stroke=\"black\" points=\"221,-36 167,-36 167,0 221,0 221,-36\"/>\n<text text-anchor=\"middle\" x=\"194\" y=\"-14.3\" font-family=\"Helvetica,sans-Serif\" font-size=\"14.00\">(...)</text>\n</g>\n<!-- 3&#45;&gt;25 -->\n<g id=\"edge5\" class=\"edge\">\n<title>3&#45;&gt;25</title>\n<path fill=\"none\" stroke=\"black\" d=\"M169.79,-71.8C173.66,-63.35 177.97,-53.95 181.87,-45.45\"/>\n<polygon fill=\"black\" stroke=\"black\" points=\"185.07,-46.88 186.05,-36.33 178.7,-43.96 185.07,-46.88\"/>\n</g>\n</g>\n</svg>\n",
            "text/plain": [
              "<graphviz.sources.Source at 0x7b521fda3130>"
            ]
          },
          "metadata": {}
        },
        {
          "output_type": "display_data",
          "data": {
            "image/svg+xml": "<?xml version=\"1.0\" encoding=\"UTF-8\" standalone=\"no\"?>\n<!DOCTYPE svg PUBLIC \"-//W3C//DTD SVG 1.1//EN\"\n \"http://www.w3.org/Graphics/SVG/1.1/DTD/svg11.dtd\">\n<!-- Generated by graphviz version 2.43.0 (0)\n -->\n<!-- Title: Tree Pages: 1 -->\n<svg width=\"908pt\" height=\"400pt\"\n viewBox=\"0.00 0.00 908.00 400.00\" xmlns=\"http://www.w3.org/2000/svg\" xmlns:xlink=\"http://www.w3.org/1999/xlink\">\n<g id=\"graph0\" class=\"graph\" transform=\"scale(1 1) rotate(0) translate(4 396)\">\n<title>Tree</title>\n<polygon fill=\"white\" stroke=\"transparent\" points=\"-4,4 -4,-396 904,-396 904,4 -4,4\"/>\n<!-- 0 -->\n<g id=\"node1\" class=\"node\">\n<title>0</title>\n<polygon fill=\"#fcf2eb\" stroke=\"black\" points=\"805.5,-392 452.5,-392 452.5,-339 805.5,-339 805.5,-392\"/>\n<text text-anchor=\"middle\" x=\"629\" y=\"-376.8\" font-family=\"Helvetica,sans-Serif\" font-size=\"14.00\">date_of_birth &lt;= 0.5</text>\n<text text-anchor=\"middle\" x=\"629\" y=\"-361.8\" font-family=\"Helvetica,sans-Serif\" font-size=\"14.00\">samples = 100.0%</text>\n<text text-anchor=\"middle\" x=\"629\" y=\"-346.8\" font-family=\"Helvetica,sans-Serif\" font-size=\"14.00\">value = [0.308, 0.038, 0.192, 0.038, 0.038, 0.154, 0.231]</text>\n</g>\n<!-- 1 -->\n<g id=\"node2\" class=\"node\">\n<title>1</title>\n<polygon fill=\"#fcf2ea\" stroke=\"black\" points=\"633.5,-303 332.5,-303 332.5,-250 633.5,-250 633.5,-303\"/>\n<text text-anchor=\"middle\" x=\"483\" y=\"-287.8\" font-family=\"Helvetica,sans-Serif\" font-size=\"14.00\">street_address &lt;= 0.5</text>\n<text text-anchor=\"middle\" x=\"483\" y=\"-272.8\" font-family=\"Helvetica,sans-Serif\" font-size=\"14.00\">samples = 94.4%</text>\n<text text-anchor=\"middle\" x=\"483\" y=\"-257.8\" font-family=\"Helvetica,sans-Serif\" font-size=\"14.00\">value = [0.32, 0.04, 0.16, 0.04, 0.04, 0.16, 0.24]</text>\n</g>\n<!-- 0&#45;&gt;1 -->\n<g id=\"edge1\" class=\"edge\">\n<title>0&#45;&gt;1</title>\n<path fill=\"none\" stroke=\"black\" d=\"M585.98,-338.87C569.87,-329.26 551.39,-318.25 534.58,-308.24\"/>\n<polygon fill=\"black\" stroke=\"black\" points=\"536.34,-305.21 525.96,-303.1 532.76,-311.23 536.34,-305.21\"/>\n<text text-anchor=\"middle\" x=\"532.1\" y=\"-323.63\" font-family=\"Helvetica,sans-Serif\" font-size=\"14.00\">True</text>\n</g>\n<!-- 32 -->\n<g id=\"node9\" class=\"node\">\n<title>32</title>\n<polygon fill=\"#39e54d\" stroke=\"black\" points=\"900,-295.5 652,-295.5 652,-257.5 900,-257.5 900,-295.5\"/>\n<text text-anchor=\"middle\" x=\"776\" y=\"-280.3\" font-family=\"Helvetica,sans-Serif\" font-size=\"14.00\">samples = 5.6%</text>\n<text text-anchor=\"middle\" x=\"776\" y=\"-265.3\" font-family=\"Helvetica,sans-Serif\" font-size=\"14.00\">value = [0.0, 0.0, 1.0, 0.0, 0.0, 0.0, 0.0]</text>\n</g>\n<!-- 0&#45;&gt;32 -->\n<g id=\"edge8\" class=\"edge\">\n<title>0&#45;&gt;32</title>\n<path fill=\"none\" stroke=\"black\" d=\"M672.31,-338.87C692.73,-326.78 716.91,-312.47 736.78,-300.71\"/>\n<polygon fill=\"black\" stroke=\"black\" points=\"738.75,-303.61 745.57,-295.51 735.19,-297.59 738.75,-303.61\"/>\n<text text-anchor=\"middle\" x=\"739.37\" y=\"-316.02\" font-family=\"Helvetica,sans-Serif\" font-size=\"14.00\">False</text>\n</g>\n<!-- 2 -->\n<g id=\"node3\" class=\"node\">\n<title>2</title>\n<polygon fill=\"#fae4d5\" stroke=\"black\" points=\"500.5,-214 147.5,-214 147.5,-161 500.5,-161 500.5,-214\"/>\n<text text-anchor=\"middle\" x=\"324\" y=\"-198.8\" font-family=\"Helvetica,sans-Serif\" font-size=\"14.00\">cust_no &lt;= 0.5</text>\n<text text-anchor=\"middle\" x=\"324\" y=\"-183.8\" font-family=\"Helvetica,sans-Serif\" font-size=\"14.00\">samples = 88.9%</text>\n<text text-anchor=\"middle\" x=\"324\" y=\"-168.8\" font-family=\"Helvetica,sans-Serif\" font-size=\"14.00\">value = [0.348, 0.043, 0.174, 0.043, 0.043, 0.174, 0.174]</text>\n</g>\n<!-- 1&#45;&gt;2 -->\n<g id=\"edge2\" class=\"edge\">\n<title>1&#45;&gt;2</title>\n<path fill=\"none\" stroke=\"black\" d=\"M436.15,-249.87C418.44,-240.18 398.11,-229.05 379.67,-218.96\"/>\n<polygon fill=\"black\" stroke=\"black\" points=\"381.24,-215.83 370.78,-214.1 377.88,-221.97 381.24,-215.83\"/>\n</g>\n<!-- 31 -->\n<g id=\"node8\" class=\"node\">\n<title>31</title>\n<polygon fill=\"#e53986\" stroke=\"black\" points=\"767,-206.5 519,-206.5 519,-168.5 767,-168.5 767,-206.5\"/>\n<text text-anchor=\"middle\" x=\"643\" y=\"-191.3\" font-family=\"Helvetica,sans-Serif\" font-size=\"14.00\">samples = 5.6%</text>\n<text text-anchor=\"middle\" x=\"643\" y=\"-176.3\" font-family=\"Helvetica,sans-Serif\" font-size=\"14.00\">value = [0.0, 0.0, 0.0, 0.0, 0.0, 0.0, 1.0]</text>\n</g>\n<!-- 1&#45;&gt;31 -->\n<g id=\"edge7\" class=\"edge\">\n<title>1&#45;&gt;31</title>\n<path fill=\"none\" stroke=\"black\" d=\"M530.14,-249.87C552.56,-237.68 579.15,-223.22 600.89,-211.4\"/>\n<polygon fill=\"black\" stroke=\"black\" points=\"602.77,-214.36 609.88,-206.51 599.43,-208.21 602.77,-214.36\"/>\n</g>\n<!-- 3 -->\n<g id=\"node4\" class=\"node\">\n<title>3</title>\n<polygon fill=\"#f9e3d3\" stroke=\"black\" points=\"338,-125 0,-125 0,-72 338,-72 338,-125\"/>\n<text text-anchor=\"middle\" x=\"169\" y=\"-109.8\" font-family=\"Helvetica,sans-Serif\" font-size=\"14.00\">address &lt;= 0.5</text>\n<text text-anchor=\"middle\" x=\"169\" y=\"-94.8\" font-family=\"Helvetica,sans-Serif\" font-size=\"14.00\">samples = 83.3%</text>\n<text text-anchor=\"middle\" x=\"169\" y=\"-79.8\" font-family=\"Helvetica,sans-Serif\" font-size=\"14.00\">value = [0.364, 0.045, 0.182, 0.045, 0.0, 0.182, 0.182]</text>\n</g>\n<!-- 2&#45;&gt;3 -->\n<g id=\"edge3\" class=\"edge\">\n<title>2&#45;&gt;3</title>\n<path fill=\"none\" stroke=\"black\" d=\"M278.33,-160.87C261.22,-151.26 241.61,-140.25 223.76,-130.24\"/>\n<polygon fill=\"black\" stroke=\"black\" points=\"225.04,-126.94 214.61,-125.1 221.62,-133.05 225.04,-126.94\"/>\n</g>\n<!-- 30 -->\n<g id=\"node7\" class=\"node\">\n<title>30</title>\n<polygon fill=\"#3956e5\" stroke=\"black\" points=\"604,-117.5 356,-117.5 356,-79.5 604,-79.5 604,-117.5\"/>\n<text text-anchor=\"middle\" x=\"480\" y=\"-102.3\" font-family=\"Helvetica,sans-Serif\" font-size=\"14.00\">samples = 5.6%</text>\n<text text-anchor=\"middle\" x=\"480\" y=\"-87.3\" font-family=\"Helvetica,sans-Serif\" font-size=\"14.00\">value = [0.0, 0.0, 0.0, 0.0, 1.0, 0.0, 0.0]</text>\n</g>\n<!-- 2&#45;&gt;30 -->\n<g id=\"edge6\" class=\"edge\">\n<title>2&#45;&gt;30</title>\n<path fill=\"none\" stroke=\"black\" d=\"M369.96,-160.87C391.82,-148.68 417.75,-134.22 438.94,-122.4\"/>\n<polygon fill=\"black\" stroke=\"black\" points=\"440.68,-125.43 447.71,-117.51 437.27,-119.32 440.68,-125.43\"/>\n</g>\n<!-- 4 -->\n<g id=\"node5\" class=\"node\">\n<title>4</title>\n<polygon fill=\"#c0c0c0\" stroke=\"black\" points=\"160,-36 106,-36 106,0 160,0 160,-36\"/>\n<text text-anchor=\"middle\" x=\"133\" y=\"-14.3\" font-family=\"Helvetica,sans-Serif\" font-size=\"14.00\">(...)</text>\n</g>\n<!-- 3&#45;&gt;4 -->\n<g id=\"edge4\" class=\"edge\">\n<title>3&#45;&gt;4</title>\n<path fill=\"none\" stroke=\"black\" d=\"M157.21,-71.8C153.34,-63.35 149.03,-53.95 145.13,-45.45\"/>\n<polygon fill=\"black\" stroke=\"black\" points=\"148.3,-43.96 140.95,-36.33 141.93,-46.88 148.3,-43.96\"/>\n</g>\n<!-- 29 -->\n<g id=\"node6\" class=\"node\">\n<title>29</title>\n<polygon fill=\"#c0c0c0\" stroke=\"black\" points=\"232,-36 178,-36 178,0 232,0 232,-36\"/>\n<text text-anchor=\"middle\" x=\"205\" y=\"-14.3\" font-family=\"Helvetica,sans-Serif\" font-size=\"14.00\">(...)</text>\n</g>\n<!-- 3&#45;&gt;29 -->\n<g id=\"edge5\" class=\"edge\">\n<title>3&#45;&gt;29</title>\n<path fill=\"none\" stroke=\"black\" d=\"M180.79,-71.8C184.66,-63.35 188.97,-53.95 192.87,-45.45\"/>\n<polygon fill=\"black\" stroke=\"black\" points=\"196.07,-46.88 197.05,-36.33 189.7,-43.96 196.07,-46.88\"/>\n</g>\n</g>\n</svg>\n",
            "text/plain": [
              "<graphviz.sources.Source at 0x7b5219d59a50>"
            ]
          },
          "metadata": {}
        }
      ]
    }
  ],
  "metadata": {
    "colab": {
      "name": "Welcome To Colab",
      "provenance": []
    },
    "kernelspec": {
      "display_name": "Python 3",
      "name": "python3"
    }
  },
  "nbformat": 4,
  "nbformat_minor": 0
}